{
 "cells": [
  {
   "cell_type": "code",
   "execution_count": 1,
   "metadata": {},
   "outputs": [],
   "source": [
    "import pickle\n",
    "\n",
    "data_save_path = \"D:/Datasets/visuelle_trendanalyse/arxiv/\""
   ]
  },
  {
   "cell_type": "code",
   "execution_count": 2,
   "metadata": {
    "pycharm": {
     "name": "#%%\n"
    }
   },
   "outputs": [],
   "source": [
    "with open(data_save_path + \"topic_hierachy.pkl\", 'rb') as handle:\n",
    "  topic_hierachy = pickle.load(handle)\n",
    "  "
   ]
  },
  {
   "cell_type": "code",
   "execution_count": 3,
   "metadata": {
    "pycharm": {
     "name": "#%%"
    }
   },
   "outputs": [
    {
     "data": {
      "text/plain": [
       "296"
      ]
     },
     "execution_count": 3,
     "metadata": {},
     "output_type": "execute_result"
    }
   ],
   "source": [
    "len(topic_hierachy)"
   ]
  },
  {
   "cell_type": "code",
   "execution_count": 7,
   "metadata": {},
   "outputs": [
    {
     "data": {
      "text/plain": [
       "[('wireless', 0.09527311988584998),\n",
       " ('channels', 0.07874971314468664),\n",
       " ('channel', 0.07834415347358716),\n",
       " ('interference', 0.05631854875777648),\n",
       " ('relay', 0.04680717812045101),\n",
       " ('cognitive', 0.035927087602771614),\n",
       " ('distributed', 0.030081469927977535),\n",
       " ('fading', 0.029816232072654696),\n",
       " ('gaussian', 0.02757503030141665),\n",
       " ('decoding', 0.026535422438178403)]"
      ]
     },
     "execution_count": 7,
     "metadata": {},
     "output_type": "execute_result"
    }
   ],
   "source": [
    "topic_hierachy[0][\"Topic-Words\"]"
   ]
  },
  {
   "cell_type": "code",
   "execution_count": 8,
   "metadata": {},
   "outputs": [
    {
     "data": {
      "text/plain": [
       "[('and', 0.03498958995668001),\n",
       " ('of', 0.034870840146364275),\n",
       " ('channels', 0.03027251009536154),\n",
       " ('channel', 0.0302454387659517),\n",
       " ('interference', 0.026092429248491218),\n",
       " ('systems', 0.021531064967076987),\n",
       " ('relay', 0.02056209642846924),\n",
       " ('gaussian', 0.01687211392090546),\n",
       " ('fading', 0.014763200591267164),\n",
       " ('information', 0.014246648742695257)]"
      ]
     },
     "execution_count": 8,
     "metadata": {},
     "output_type": "execute_result"
    }
   ],
   "source": [
    "topic_hierachy[0][\"Sub-Topics\"][0][\"Topic-Words\"]"
   ]
  },
  {
   "cell_type": "code",
   "execution_count": null,
   "metadata": {},
   "outputs": [],
   "source": []
  }
 ],
 "metadata": {
  "kernelspec": {
   "display_name": "Python 3",
   "language": "python",
   "name": "python3"
  },
  "language_info": {
   "codemirror_mode": {
    "name": "ipython",
    "version": 3
   },
   "file_extension": ".py",
   "mimetype": "text/x-python",
   "name": "python",
   "nbconvert_exporter": "python",
   "pygments_lexer": "ipython3",
   "version": "3.8.2"
  },
  "pycharm": {
   "stem_cell": {
    "cell_type": "raw",
    "metadata": {
     "collapsed": false
    },
    "source": []
   }
  }
 },
 "nbformat": 4,
 "nbformat_minor": 1
}
